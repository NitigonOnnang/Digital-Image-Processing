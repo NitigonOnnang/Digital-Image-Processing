{
  "cells": [
    {
      "cell_type": "markdown",
      "metadata": {
        "id": "view-in-github",
        "colab_type": "text"
      },
      "source": [
        "<a href=\"https://colab.research.google.com/github/NitigonOnnang/Digital-Image-Processing/blob/main/unit1_2.ipynb\" target=\"_parent\"><img src=\"https://colab.research.google.com/assets/colab-badge.svg\" alt=\"Open In Colab\"/></a>"
      ]
    },
    {
      "cell_type": "markdown",
      "metadata": {
        "id": "6aADuiVeanNa"
      },
      "source": [
        "# 📚 บทที่ 1: เริ่มต้นกับการประมวลผลภาพ (ต่อ)\n",
        "\n",
        "---\n",
        "\n",
        "## 🎯 เนื้อหาในส่วนนี้\n",
        "\n",
        "- 🎨 การวาดและเพิ่มข้อความลงบนภาพ\n",
        "- 📊 การวิเคราะห์สถิติของภาพ\n",
        "- 🌈 การจัดการช่องสี RGB\n",
        "- ✨ การประมวลผลภาพด้วย PIL, scikit-image และ Matplotlib"
      ]
    },
    {
      "cell_type": "markdown",
      "metadata": {
        "id": "1DF_VbtEanNc"
      },
      "source": [
        "## 🎨 การเพิ่ม Salt-and-Pepper Noise\n",
        "\n",
        "เราสามารถเพิม นอยส์แบบ Salt-and-Pepper ให้กับภาพได้โดยการเลือกพิกเซลแบบสุ่มสักสองสามพิกเซล จากนั้นตั้งค่า\n",
        " ประมาณครึ่งหนึงเป็นสีดํา และอีกครึ่งหนึ่งเป็นสีขาว โค้ดตัวอย่างต่อไปนี้จะแสดงวิธีการเพิ่มนอยส์:"
      ]
    },
    {
      "cell_type": "code",
      "execution_count": null,
      "metadata": {
        "id": "Md8zCxImanNd"
      },
      "outputs": [],
      "source": []
    },
    {
      "cell_type": "markdown",
      "metadata": {
        "id": "xcb0UNUuanNd"
      },
      "source": [
        "## 🖌️ การวาดรูปทรงเรขาคณิต\n",
        "\n",
        "เราสามารถวาด เส้นหรือรูปทรงเรขาคณิตอื่นๆ บนรูปภาพได้ (เช่น ฟังก์ชัน ellipse() เพื่อวาดรูปวงรี)\n",
        "จาก โมดูล PIL.ImageDraw ดังที่แสดงในตัวอย่างโค้ด"
      ]
    },
    {
      "cell_type": "code",
      "execution_count": null,
      "metadata": {
        "id": "Dew1lKwVanNe"
      },
      "outputs": [],
      "source": []
    },
    {
      "cell_type": "markdown",
      "metadata": {
        "id": "sgpP-XJxanNe"
      },
      "source": [
        "## ✍️ การเขียนข้อความลงบนภาพ\n",
        " เราสามารถเพิ่มข้อความลงในรูปภาพได้โดยใช้ ฟังก์ชัน text() จาก โมดูล PIL.ImageDraw ดังที่แสดงในตัวอย่างโค้ด"
      ]
    },
    {
      "cell_type": "code",
      "execution_count": null,
      "metadata": {
        "id": "tEoTWrE4anNe"
      },
      "outputs": [],
      "source": []
    },
    {
      "cell_type": "markdown",
      "metadata": {
        "id": "0fWVTYhQanNe"
      },
      "source": [
        "## 🖼️ การสร้าง Thumbnail"
      ]
    },
    {
      "cell_type": "markdown",
      "metadata": {
        "id": "X5UzaPpeanNf"
      },
      "source": [
        " เราสามารถสร้างภาพขนาดย่อจากรูปภาพได้ด้วย ฟังก์ชัน thumbnail()"
      ]
    },
    {
      "cell_type": "code",
      "execution_count": null,
      "metadata": {
        "id": "lsta3CeRanNf"
      },
      "outputs": [],
      "source": []
    },
    {
      "cell_type": "markdown",
      "metadata": {
        "id": "RnVra5tDanNf"
      },
      "source": [
        "## 📊 การคํานวณสถิติพื้นฐานของภาพ\n",
        "\n",
        "เราสามารถใช้ stat ซึ่งเป็นโมดูลเกี่่ยวกับสถิติ เพื่อคํานวณสถิติพื้นฐาน (ค่าเฉลี่ย ค่ามัธยฐาน ค่าเบี่ยงเบนมาตรฐานของค่าพิกเซลของช่องต่างๆ และอื่น ๆ) ของภาพ"
      ]
    },
    {
      "cell_type": "code",
      "execution_count": null,
      "metadata": {
        "id": "cWTPcyfyanNf"
      },
      "outputs": [],
      "source": []
    },
    {
      "cell_type": "markdown",
      "metadata": {
        "id": "tTfOuEoXanNg"
      },
      "source": [
        "## 📊 การพล็อตฮิสโทแกรมของค่าพิกเซลสําหรับช่อง RGB ของภาพ"
      ]
    },
    {
      "cell_type": "markdown",
      "metadata": {
        "id": "tuezbod8anNg"
      },
      "source": [
        "ฟังก์ชัน histogram () สามารถใช้เพื่อคํานวณฮิสโทแกรม (ตารางค่าพิกเซลเทียบกับความถี่) ของพิกเซลสําหรับแต่ละช่อง และ\n",
        " ส่งคืนเอาต์พุตทีเชื่อมต่อกัน (ตัวอย่างเช่น สําหรับภาพ RGB เอาต์พุตจะมี ค่า 3 x 256 = 768 ค่า)"
      ]
    },
    {
      "cell_type": "code",
      "execution_count": null,
      "metadata": {
        "id": "836f_cS7anNg"
      },
      "outputs": [],
      "source": []
    },
    {
      "cell_type": "markdown",
      "metadata": {
        "id": "ne9U58cRanNg"
      },
      "source": [
        "## 🌈 การแยกช่อง RGB ของภาพ"
      ]
    },
    {
      "cell_type": "markdown",
      "metadata": {
        "id": "6bzOlZdNanNg"
      },
      "source": [
        " เราสามารถใช้ ฟังก์ชัน split() เพื่อแยกช่องของภาพหลายช่องได้ ดังที่แสดงในโค้ด ด้านล่าง"
      ]
    },
    {
      "cell_type": "code",
      "execution_count": null,
      "metadata": {
        "id": "fKRNPBH4anNg"
      },
      "outputs": [],
      "source": []
    },
    {
      "cell_type": "markdown",
      "metadata": {
        "id": "VpACqahLanNh"
      },
      "source": [
        "## 🔀 การรวมช่องสัญญาณหลายช่องของภาพ"
      ]
    },
    {
      "cell_type": "markdown",
      "metadata": {
        "id": "Sp2YPK0yanNh"
      },
      "source": [
        " เราสามารถใช้ ฟังก์ชัน merge() เพื่อรวมช่องของภาพหลายช่องได้ ดังที่แสดงในโค้ดต่อไปนี้ โดยที่ช่องสีจะได้มาจากการแยกภาพแบบนกแก้ว\n",
        " ภาพ RGB หลังจากนั้นจะถูกผสานหลังจากสลับช่องสีแดงและสีนําเงิน ตามโค้ดตัวอย่าง :"
      ]
    },
    {
      "cell_type": "code",
      "execution_count": null,
      "metadata": {
        "id": "FIo9L5mxanNh"
      },
      "outputs": [],
      "source": []
    },
    {
      "cell_type": "markdown",
      "metadata": {
        "id": "G3kNAnkxanNh"
      },
      "source": [
        "## 🎭  การผสมภาพสองภาพด้วย α\n",
        "ฟังก์ชัน blend() สามารถใช้สร้างภาพใหม่ได้โดยการแทรกภาพสองภาพที่กําหนดให้ (ขนาดเท่ากัน) โดยใช้ค่าคงที α โดยที่ภาพทั้งสองต้องมีขนาดและ\n",
        " โหมดเดียวกัน ภาพเอาต์พุตกําหนดดังนี:\n",
        "\n",
        "สูตร: `out = image1 * (1-alpha) + image2 * alpha`"
      ]
    },
    {
      "cell_type": "code",
      "execution_count": null,
      "metadata": {
        "id": "UQLYkcqmanNh"
      },
      "outputs": [],
      "source": []
    },
    {
      "cell_type": "markdown",
      "metadata": {
        "id": "VjeeXsT2anNh"
      },
      "source": [
        "## 🔲  การซ้อนภาพสองภาพ\n",
        "ภาพหนึ่งสามารถซ้อนทับภาพอื่นได้ โดยการคูณภาพอินพุตสองภาพ (ขนาดเท่ากัน) ทีละพิกเซล ดังแสดงตามโค้ดด้านล่าง"
      ]
    },
    {
      "cell_type": "code",
      "execution_count": null,
      "metadata": {
        "id": "K8KmACFEanNh"
      },
      "outputs": [],
      "source": []
    },
    {
      "cell_type": "markdown",
      "metadata": {
        "id": "UuqcQwj9anNi"
      },
      "source": [
        "## ➕  การเพิ่มรูปภาพสองภาพ\n",
        " ตัวอย่างโค้ดต่อไปนี้แสดงวิธีการสร้างรูปภาพโดยการเพิ่มรูปภาพอินพุตสองรูป (ที่มีขนาดเท่ากัน) ทีละพิกเซล:"
      ]
    },
    {
      "cell_type": "code",
      "execution_count": null,
      "metadata": {
        "id": "WXkA7N_fanNi"
      },
      "outputs": [],
      "source": []
    },
    {
      "cell_type": "markdown",
      "metadata": {
        "id": "a1wOD57yanNi"
      },
      "source": [
        "## 🔍  การคํานวณความแตกต่างระหว่างภาพสองภาพ\n",
        "\n",
        "ใช้ตรวจจับการเปลี่ยนแปลงระหว่างเฟรม โค้ดต่อไปนี้จะคืนค่าสัมบูรณ์ของความแตกต่างระหว่างภาพแต่ละภาพแบบพิกเซลต่อพิกเซล ความแตกต่างของภาพสามารถใช้เพือตรวจจับการ\n",
        " เปลียนแปลงระหว่างภาพสองภาพ ตัวอย่างเช่น โค้ดด้านล่างแสดงวิธีการคํานวณภาพความแตกต่างจากเฟรมสองเฟรมติดต่อกันจากการบันทึกวิดีโอ (จาก YouTube) ของการแข่งขันฟุตบอลโลก 2018:"
      ]
    },
    {
      "cell_type": "code",
      "execution_count": null,
      "metadata": {
        "id": "acMjrILOanNi"
      },
      "outputs": [],
      "source": []
    },
    {
      "cell_type": "markdown",
      "metadata": {
        "id": "2meuwsNranNi"
      },
      "source": [
        "## 🔧 การจัดการรูปภาพด้วย scikit-image"
      ]
    },
    {
      "cell_type": "markdown",
      "metadata": {
        "id": "YrJ5ibTfanNi"
      },
      "source": [
        "เช่นเดียวกับทีดําเนินการก่อนหน้านีโดยใช้ไลบรารี PIL เราสามารถใช้ ฟงก์ชันไลบรารี scikit-image เพื่อการจัดการรูปภาพได้เช่นกัน"
      ]
    },
    {
      "cell_type": "markdown",
      "metadata": {
        "id": "50OaxmVLanNi"
      },
      "source": [
        "## 🔧การบิดเบือนแบบผกผันและการแปลงทางเรขาคณิตโดยใช้ฟงก์ชัน warp()"
      ]
    },
    {
      "cell_type": "markdown",
      "metadata": {
        "id": "2QmRvW_YanNj"
      },
      "source": [
        "ฟังก์ชัน warp() ของโมดูล scikit-image transform สามารถใช้สําหรับการบิดเบือนแบบผกผันสําหรับการแปลงทางเรขาคณิตของรูปภาพ เราสามารถใช้ฟังก์ชัน SimilarityTransform() เพือคํานวณเมทริกซ์การแปลง ตามด้วยฟังก์ชัน warp() เพือดําเนินการแปลง ตามตัวอย่างด้านล่าง"
      ]
    },
    {
      "cell_type": "code",
      "execution_count": null,
      "metadata": {
        "id": "5TDJvXssanNj"
      },
      "outputs": [],
      "source": []
    },
    {
      "cell_type": "markdown",
      "metadata": {
        "id": "Cp5scOuWanNj"
      },
      "source": [
        "## 🌀 การใช้การแปลงแบบหมุนวน\n",
        " นี่คือการแปลงแบบไม่เชิงเส้นที่กําหนดไว้ในเอกสารประกอบ scikit-image ตัวอย่างโค้ดด้านล่างแสดงวิธีการใช้ฟังก์ชัน swirl() เพื่อสร้างการแปลง โดยที 'strength' เป็นพารามิเตอร์ของฟังก์ชันสําหรับปริมาณการหมุนวน 'radius' แสดงขอบเขตการหมุนวนเป็นพิกเซล และ 'rotation' จะเป็นการเพิ่มมุมการหมุน"
      ]
    },
    {
      "cell_type": "code",
      "execution_count": null,
      "metadata": {
        "id": "cf47NQ6wanNj"
      },
      "outputs": [],
      "source": []
    },
    {
      "cell_type": "markdown",
      "metadata": {
        "id": "oi7BkZzyanNk"
      },
      "source": [
        "## 🔊  การเพิ่มสัญญาณรบกวนแบบเกาส์เซียนแบบสุ่มลงในรูปภาพ(Gaussian Noise)"
      ]
    },
    {
      "cell_type": "markdown",
      "metadata": {
        "id": "qKS2psPmanNk"
      },
      "source": [
        " เราสามารถใช้ฟังก์ชัน random_noise() เพื่อเพิ่มสัญญาณรบกวนประเภทต่างๆ ลงในรูปภาพได้ ตัวอย่างโค้ดด้านล่างแสดงวิธีการเพิ่มสัญญาณรบกวนแบบเกาส์เซียนที่มีความแปรปรวนต่างๆ ลงในรูปภาพ:"
      ]
    },
    {
      "cell_type": "code",
      "execution_count": null,
      "metadata": {
        "id": "ZFtKxfKvanNk"
      },
      "outputs": [],
      "source": []
    },
    {
      "cell_type": "markdown",
      "metadata": {
        "id": "wt5knPt6anNp"
      },
      "source": [
        "## 🗺️  การวาดเส้นชันความสูงสําหรับภาพ(Contour Lines)"
      ]
    },
    {
      "cell_type": "markdown",
      "metadata": {
        "id": "62qv9SrianNp"
      },
      "source": [
        " เส้นชันความสูง สําหรับภาพคือเส้นโค้งที่เชื่อมต่อพิกเซลทั้งหมดทีมีค่าเฉพาะเดียวกัน โค้ดด้านล่างแสดงวิธีการวาดเส้นชันความสูงและเติมเส้นชันความสูง\n",
        " จากภาพระดับสีเทาของไอน์สไตน์:"
      ]
    },
    {
      "cell_type": "code",
      "execution_count": null,
      "metadata": {
        "id": "cq5ZitPIanNp"
      },
      "outputs": [],
      "source": []
    }
  ],
  "metadata": {
    "kernelspec": {
      "display_name": "dip_env",
      "language": "python",
      "name": "python3"
    },
    "language_info": {
      "codemirror_mode": {
        "name": "ipython",
        "version": 3
      },
      "file_extension": ".py",
      "mimetype": "text/x-python",
      "name": "python",
      "nbconvert_exporter": "python",
      "pygments_lexer": "ipython3",
      "version": "3.11.13"
    },
    "colab": {
      "provenance": [],
      "include_colab_link": true
    }
  },
  "nbformat": 4,
  "nbformat_minor": 0
}
